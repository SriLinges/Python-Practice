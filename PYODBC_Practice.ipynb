{
 "cells": [
  {
   "cell_type": "code",
   "execution_count": 1,
   "id": "4ee7115e-c8f6-48c7-86a7-883ed016b8fd",
   "metadata": {},
   "outputs": [
    {
     "name": "stdout",
     "output_type": "stream",
     "text": [
      "Requirement already satisfied: pyodbc in c:\\users\\user\\anaconda3\\lib\\site-packages (5.0.1)\n",
      "Note: you may need to restart the kernel to use updated packages.\n"
     ]
    }
   ],
   "source": [
    "pip install pyodbc"
   ]
  },
  {
   "cell_type": "code",
   "execution_count": 47,
   "id": "978827df-fca6-4063-91f0-f9630ed90e9b",
   "metadata": {},
   "outputs": [
    {
     "name": "stdout",
     "output_type": "stream",
     "text": [
      "('A001  ', 'Subbarao                                ', 'Bangalore                          ', Decimal('0.14'), '077-12346674   ', '')\n",
      "('A002  ', 'Mukesh                                  ', 'Mumbai                             ', Decimal('0.11'), '029-12358964   ', '')\n",
      "('A003  ', 'Alex                                    ', 'London                             ', Decimal('0.13'), '075-12458969   ', '')\n",
      "('A004  ', 'Ivan                                    ', 'Torento                            ', Decimal('0.15'), '008-22544166   ', '')\n",
      "('A005  ', 'Anderson                                ', 'Brisban                            ', Decimal('0.13'), '045-21447739   ', '')\n",
      "('A006  ', 'McDen                                   ', 'London                             ', Decimal('0.15'), '078-22255588   ', '')\n",
      "('A007  ', 'Ramasundar                              ', 'Bangalore                          ', Decimal('0.15'), '077-25814763   ', '')\n",
      "('A008  ', 'Alford                                  ', 'New York                           ', Decimal('0.12'), '044-25874365   ', '')\n",
      "('A009  ', 'Benjamin                                ', 'Hampshair                          ', Decimal('0.11'), '008-22536178   ', '')\n",
      "('A010  ', 'Santakumar                              ', 'Chennai                            ', Decimal('0.14'), '007-22388644   ', '')\n",
      "('A011  ', 'Ravi Kumar                              ', 'Bangalore                          ', Decimal('0.15'), '077-45625874   ', '')\n",
      "('A012  ', 'Lucida                                  ', 'San Jose                           ', Decimal('0.12'), '044-52981425   ', '')\n"
     ]
    }
   ],
   "source": [
    "import pyodbc \n",
    "\n",
    "conn = pyodbc.connect (\n",
    "    \"Driver={ODBC Driver 17 for SQL Server};\"\n",
    "    \"Server=RAM;\"\n",
    "    \"Database=Sri_DB;\"\n",
    "    \"Trusted_Connection=yes;\"\n",
    ")\n",
    "\n",
    "cur = conn.cursor()\n",
    "\n",
    "SELECT_QUERY = \"select * from AGENTS\"\n",
    "cur.execute(SELECT_QUERY)\n",
    "\n",
    "for i in cur:\n",
    "    print(i)"
   ]
  },
  {
   "cell_type": "code",
   "execution_count": 23,
   "id": "72e00e0a-e0be-460a-a8e1-bcb98b97ed99",
   "metadata": {},
   "outputs": [],
   "source": [
    "CREATE_QUERY = \"CREATE TABLE Employee (EmpID int PRIMARY KEY, Name varchar(20), Age int, DeptID int)\"\n",
    "\n",
    "cur.execute(CREATE_QUERY)\n",
    "cur.commit()"
   ]
  },
  {
   "cell_type": "code",
   "execution_count": 39,
   "id": "807f647b-af87-43f2-990f-a2667c132fe0",
   "metadata": {},
   "outputs": [],
   "source": [
    "INSERT_QUERY = \"INSERT INTO Employee values (13, 'Sri', 25, 4)\"\n",
    "cur.execute(INSERT_QUERY)\n",
    "cur.commit()\n",
    "\n",
    "EmpID = 16\n",
    "Name = 'Sanjana'\n",
    "Age = 25\n",
    "DeptID = 2\n",
    "INSERT_QUERY2 = \"INSERT INTO Employee values (? ,?, ?, ?)\"\n",
    "cur.execute(INSERT_QUERY2, EmpID, Name, Age, DeptID)\n",
    "cur.commit()\n",
    "\n",
    "ROW1 = [22, 'Aishwarya', 27, 1]\n",
    "ROW2 = [6, 'Rufina', 25, 11]\n",
    "ROWLIST = []\n",
    "ROWLIST.append(ROW1)\n",
    "ROWLIST.append(ROW2)\n",
    "cur.executemany(INSERT_QUERY2, ROWLIST)\n",
    "cur.commit()"
   ]
  },
  {
   "cell_type": "code",
   "execution_count": 40,
   "id": "eb3a8c3e-a867-4b43-bbe7-5af8c6fd961d",
   "metadata": {},
   "outputs": [],
   "source": [
    "ID = 16 \n",
    "UPDATE_QUERY = \"UPDATE Employee SET Name = 'Sanjana Sudhakar' where EmpID = ?\"\n",
    "cur.execute(UPDATE_QUERY, ID)\n",
    "cur.commit()"
   ]
  },
  {
   "cell_type": "code",
   "execution_count": 44,
   "id": "f12949e2-7f19-4e92-b09a-9f936dca390a",
   "metadata": {},
   "outputs": [],
   "source": [
    "DELETE_QUERY = \"DELETE FROM Employee where EmpID = ?\"\n",
    "cur.execute(DELETE_QUERY, ID)\n",
    "cur.commit()"
   ]
  },
  {
   "cell_type": "code",
   "execution_count": 52,
   "id": "3528b5af-9ca0-4d12-b842-8bb35bad6a84",
   "metadata": {},
   "outputs": [
    {
     "name": "stdout",
     "output_type": "stream",
     "text": [
      "   21   'Surya'  26  7\n",
      "0  27   'Rekha'  25  7\n",
      "1  12  'Sriram'  24  8\n"
     ]
    }
   ],
   "source": [
    "import pandas as pd \n",
    "\n",
    "df = pd.read_csv('Emp_Details.csv')\n",
    "#df = pd.read_csv(r'C:\\Users\\User\\Desktop\\SRI_DB\\Emp_Details.csv')\n",
    "print(df)"
   ]
  },
  {
   "cell_type": "code",
   "execution_count": 63,
   "id": "dcae56fb-c34e-4112-ac64-d5dc4a8f796b",
   "metadata": {},
   "outputs": [
    {
     "name": "stdout",
     "output_type": "stream",
     "text": [
      "    0       1   2  3\n",
      "0  21   Surya  26  7\n",
      "1  27   Rekha  25  7\n",
      "2  12  Sriram  24  8\n"
     ]
    }
   ],
   "source": [
    "import pandas as pd \n",
    "\n",
    "df = pd.read_csv('Emp_Details.csv', header=None)\n",
    "print(df)"
   ]
  },
  {
   "cell_type": "code",
   "execution_count": 67,
   "id": "330661a7-0ab9-4d64-b51a-19e483c13888",
   "metadata": {},
   "outputs": [
    {
     "name": "stdout",
     "output_type": "stream",
     "text": [
      "Pandas(Index=0, _1=21, _2='Surya', _3=26, _4=7)\n",
      "Pandas(Index=1, _1=27, _2='Rekha', _3=25, _4=7)\n",
      "Pandas(Index=2, _1=12, _2='Sriram', _3=24, _4=8)\n"
     ]
    }
   ],
   "source": [
    "for each in df.itertuples():\n",
    "    print(each)"
   ]
  },
  {
   "cell_type": "code",
   "execution_count": 69,
   "id": "b1d7d074-6491-4f61-a7d8-4e7c87db19b6",
   "metadata": {},
   "outputs": [],
   "source": [
    "for each in df.itertuples():\n",
    "    cur.execute(\"INSERT INTO Employee values (?,?,?,?)\", each[1], each[2], each[3], each[4])\n",
    "cur.commit()"
   ]
  },
  {
   "cell_type": "code",
   "execution_count": 70,
   "id": "ab92cd03-5839-41fc-a3fa-cab89ea5f4bd",
   "metadata": {},
   "outputs": [],
   "source": [
    "cur.close()\n",
    "conn.close()"
   ]
  },
  {
   "cell_type": "code",
   "execution_count": null,
   "id": "d946b6b9-f3ec-4550-a4a0-6cb448fefcb6",
   "metadata": {},
   "outputs": [],
   "source": []
  }
 ],
 "metadata": {
  "kernelspec": {
   "display_name": "Python 3 (ipykernel)",
   "language": "python",
   "name": "python3"
  },
  "language_info": {
   "codemirror_mode": {
    "name": "ipython",
    "version": 3
   },
   "file_extension": ".py",
   "mimetype": "text/x-python",
   "name": "python",
   "nbconvert_exporter": "python",
   "pygments_lexer": "ipython3",
   "version": "3.11.7"
  }
 },
 "nbformat": 4,
 "nbformat_minor": 5
}
